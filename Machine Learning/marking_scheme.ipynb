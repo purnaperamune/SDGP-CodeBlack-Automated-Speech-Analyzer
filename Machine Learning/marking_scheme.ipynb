{
 "cells": [
  {
   "cell_type": "code",
   "execution_count": 4,
   "metadata": {
    "id": "x_BGy47IqMMW",
    "scrolled": true
   },
   "outputs": [
    {
     "name": "stdout",
     "output_type": "stream",
     "text": [
      "Requirement already satisfied: pydub in /Users/purnaperamune/opt/anaconda3/lib/python3.9/site-packages (0.25.1)\r\n"
     ]
    }
   ],
   "source": [
    "!pip install pydub"
   ]
  },
  {
   "cell_type": "code",
   "execution_count": 5,
   "metadata": {
    "id": "VTrxZYkAwStR"
   },
   "outputs": [
    {
     "name": "stdout",
     "output_type": "stream",
     "text": [
      "Requirement already satisfied: pyloudnorm in /Users/purnaperamune/opt/anaconda3/lib/python3.9/site-packages (0.1.0)\r\n",
      "Requirement already satisfied: scipy>=1.0.1 in /Users/purnaperamune/opt/anaconda3/lib/python3.9/site-packages (from pyloudnorm) (1.7.1)\r\n",
      "Requirement already satisfied: future>=0.16.0 in /Users/purnaperamune/opt/anaconda3/lib/python3.9/site-packages (from pyloudnorm) (0.18.2)\r\n",
      "Requirement already satisfied: numpy>=1.14.2 in /Users/purnaperamune/opt/anaconda3/lib/python3.9/site-packages (from pyloudnorm) (1.20.3)\r\n"
     ]
    }
   ],
   "source": [
    "!pip install pyloudnorm"
   ]
  },
  {
   "cell_type": "code",
   "execution_count": 6,
   "metadata": {
    "id": "he7EDKrQo2fN"
   },
   "outputs": [],
   "source": [
    "import numpy as np\n",
    "import pandas as pd\n",
    "import spacy\n",
    "# Create a spaCy language model instance\n",
    "nlp = spacy.load(\"en_core_web_sm\")\n",
    "import pydub\n",
    "from pydub import AudioSegment\n",
    "import soundfile as sf\n",
    "import pyloudnorm as pyln\n",
    "import warnings\n",
    "warnings.filterwarnings('ignore')"
   ]
  },
  {
   "cell_type": "markdown",
   "metadata": {
    "id": "kMto5JC8rigz"
   },
   "source": [
    "**Marking scheme**"
   ]
  },
  {
   "cell_type": "markdown",
   "metadata": {
    "id": "GL4CQewUrls6"
   },
   "source": [
    "70 - Relevancy and Comparing\n",
    "\n",
    "20 - Voice\n",
    "\n",
    "10 - User input score\n",
    "\n",
    "___\n",
    "\n",
    "100 - Total Rating"
   ]
  },
  {
   "cell_type": "markdown",
   "metadata": {
    "id": "Nn6ySUOolGuv"
   },
   "source": [
    "# **Relevancy and Comparing**"
   ]
  },
  {
   "cell_type": "code",
   "execution_count": 7,
   "metadata": {
    "id": "__z2d22epN6y"
   },
   "outputs": [],
   "source": [
    "# Relevancy and Comparing Score\n",
    "speech_1_text = \"Ghrelin is a hormone that is produced and released in the stomach. People often refer to it as the “hunger hormone” because it increases appetite. It also promotes blood sugar regulation, prevents muscle breakdown, and protects the heart. In this Honest Nutrition feature, we explore what ghrelin is, its functions, and how a person can manage levels in their body.\" \n",
    "speech_2_text = \"The emergence of the Omicron SARS-CoV-2 variant has confirmed the need for vaccine boosters — to combat waning immunity and provide more robust protection against severe disease and death.\" \n",
    "speech_3_text = \"Data about the need for a fourth dose, so far, is lacking, but recently published research indicates that it can restore waning immunity.\" \n",
    "speech_4_text = \"The actor later posted a health update on his Instagram Story.As some of you may have heard, I passed out during the first performance of cock last night. I am completely fine. Slightly sore neck and a bruised ego but I'm fine\" \n",
    "\n",
    "speeches = [speech_1_text, speech_2_text, speech_3_text, speech_4_text]\n",
    "string_text = \"Millions of people worldwide live with long COVID, a condition characterized by symptoms of COVID-19 and other syndromes months after the initial illness has subsided. One aspect of particular concern is its cardiovascular implications, including a rise in postural orthostatic tachycardia syndrome (POTS) and increased cardiovascular disease risk. Our latest In Conversation episode delves into this topic.\"\n",
    "n = 1\n",
    "relevancy_temp_score = []\n",
    "score_by_relevancy = []\n",
    "for x in speeches:\n",
    "  score = nlp(string_text).similarity(nlp(x)) \n",
    "  #print('\\nSimiliarity score for speech #  ' + str(n) + ' : '+ str(score) )\n",
    "  relevancy_temp_score.append(score)\n",
    "  n = n+1\n",
    "\n",
    "score_by_relevancy = np.array(relevancy_temp_score)\n",
    "score_by_relevancy = 70*score_by_relevancy/100"
   ]
  },
  {
   "cell_type": "markdown",
   "metadata": {
    "id": "Lrkxucb2kySu"
   },
   "source": [
    "# **Voice**"
   ]
  },
  {
   "cell_type": "code",
   "execution_count": 8,
   "metadata": {
    "id": "PBkykPe2wbMj"
   },
   "outputs": [],
   "source": [
    "# Voice Score\n",
    "\n",
    "# defining loudness function\n",
    "def check_loudness(f):\n",
    "  data, rate = sf.read(f) # load audio (with shape (samples, channels))\n",
    "  #print(data.shape)\n",
    "  meter = pyln.Meter(rate) # create BS.1770 meter\n",
    "  loudness = meter.integrated_loudness(data) # measure loudness\n",
    "  return loudness"
   ]
  },
  {
   "cell_type": "code",
   "execution_count": 9,
   "metadata": {
    "id": "wXFJeRrnmqVG"
   },
   "outputs": [
    {
     "ename": "RuntimeError",
     "evalue": "Error opening '/content/drive/MyDrive/HealthcareChethila.wav': System error.",
     "output_type": "error",
     "traceback": [
      "\u001b[0;31m---------------------------------------------------------------------------\u001b[0m",
      "\u001b[0;31mRuntimeError\u001b[0m                              Traceback (most recent call last)",
      "\u001b[0;32m/var/folders/58/dnxmgvzx4_55v7cc2mb6vqdh0000gn/T/ipykernel_4591/847760638.py\u001b[0m in \u001b[0;36m<module>\u001b[0;34m\u001b[0m\n\u001b[1;32m      1\u001b[0m \u001b[0;31m# calling loudness function\u001b[0m\u001b[0;34m\u001b[0m\u001b[0;34m\u001b[0m\u001b[0m\n\u001b[0;32m----> 2\u001b[0;31m \u001b[0mloudness_1\u001b[0m \u001b[0;34m=\u001b[0m \u001b[0mcheck_loudness\u001b[0m\u001b[0;34m(\u001b[0m\u001b[0;34m\"/content/drive/MyDrive/HealthcareChethila.wav\"\u001b[0m\u001b[0;34m)\u001b[0m\u001b[0;34m\u001b[0m\u001b[0;34m\u001b[0m\u001b[0m\n\u001b[0m\u001b[1;32m      3\u001b[0m \u001b[0mloudness_2\u001b[0m \u001b[0;34m=\u001b[0m \u001b[0mcheck_loudness\u001b[0m\u001b[0;34m(\u001b[0m\u001b[0;34m\"/content/drive/MyDrive/HospitalPurna.wav\"\u001b[0m\u001b[0;34m)\u001b[0m\u001b[0;34m\u001b[0m\u001b[0;34m\u001b[0m\u001b[0m\n\u001b[1;32m      4\u001b[0m \u001b[0mloudness_3\u001b[0m \u001b[0;34m=\u001b[0m \u001b[0mcheck_loudness\u001b[0m\u001b[0;34m(\u001b[0m\u001b[0;34m\"/content/drive/MyDrive/FilmPurna.wav\"\u001b[0m\u001b[0;34m)\u001b[0m\u001b[0;34m\u001b[0m\u001b[0;34m\u001b[0m\u001b[0m\n\u001b[1;32m      5\u001b[0m \u001b[0mloudness_4\u001b[0m \u001b[0;34m=\u001b[0m \u001b[0mcheck_loudness\u001b[0m\u001b[0;34m(\u001b[0m\u001b[0;34m\"/content/drive/MyDrive/CancerPurna.wav\"\u001b[0m\u001b[0;34m)\u001b[0m\u001b[0;34m\u001b[0m\u001b[0;34m\u001b[0m\u001b[0m\n",
      "\u001b[0;32m/var/folders/58/dnxmgvzx4_55v7cc2mb6vqdh0000gn/T/ipykernel_4591/1962303789.py\u001b[0m in \u001b[0;36mcheck_loudness\u001b[0;34m(f)\u001b[0m\n\u001b[1;32m      3\u001b[0m \u001b[0;31m# defining loudness function\u001b[0m\u001b[0;34m\u001b[0m\u001b[0;34m\u001b[0m\u001b[0m\n\u001b[1;32m      4\u001b[0m \u001b[0;32mdef\u001b[0m \u001b[0mcheck_loudness\u001b[0m\u001b[0;34m(\u001b[0m\u001b[0mf\u001b[0m\u001b[0;34m)\u001b[0m\u001b[0;34m:\u001b[0m\u001b[0;34m\u001b[0m\u001b[0;34m\u001b[0m\u001b[0m\n\u001b[0;32m----> 5\u001b[0;31m   \u001b[0mdata\u001b[0m\u001b[0;34m,\u001b[0m \u001b[0mrate\u001b[0m \u001b[0;34m=\u001b[0m \u001b[0msf\u001b[0m\u001b[0;34m.\u001b[0m\u001b[0mread\u001b[0m\u001b[0;34m(\u001b[0m\u001b[0mf\u001b[0m\u001b[0;34m)\u001b[0m \u001b[0;31m# load audio (with shape (samples, channels))\u001b[0m\u001b[0;34m\u001b[0m\u001b[0;34m\u001b[0m\u001b[0m\n\u001b[0m\u001b[1;32m      6\u001b[0m   \u001b[0;31m#print(data.shape)\u001b[0m\u001b[0;34m\u001b[0m\u001b[0;34m\u001b[0m\u001b[0m\n\u001b[1;32m      7\u001b[0m   \u001b[0mmeter\u001b[0m \u001b[0;34m=\u001b[0m \u001b[0mpyln\u001b[0m\u001b[0;34m.\u001b[0m\u001b[0mMeter\u001b[0m\u001b[0;34m(\u001b[0m\u001b[0mrate\u001b[0m\u001b[0;34m)\u001b[0m \u001b[0;31m# create BS.1770 meter\u001b[0m\u001b[0;34m\u001b[0m\u001b[0;34m\u001b[0m\u001b[0m\n",
      "\u001b[0;32m~/opt/anaconda3/lib/python3.9/site-packages/soundfile.py\u001b[0m in \u001b[0;36mread\u001b[0;34m(file, frames, start, stop, dtype, always_2d, fill_value, out, samplerate, channels, format, subtype, endian, closefd)\u001b[0m\n\u001b[1;32m    254\u001b[0m \u001b[0;34m\u001b[0m\u001b[0m\n\u001b[1;32m    255\u001b[0m     \"\"\"\n\u001b[0;32m--> 256\u001b[0;31m     with SoundFile(file, 'r', samplerate, channels,\n\u001b[0m\u001b[1;32m    257\u001b[0m                    subtype, endian, format, closefd) as f:\n\u001b[1;32m    258\u001b[0m         \u001b[0mframes\u001b[0m \u001b[0;34m=\u001b[0m \u001b[0mf\u001b[0m\u001b[0;34m.\u001b[0m\u001b[0m_prepare_read\u001b[0m\u001b[0;34m(\u001b[0m\u001b[0mstart\u001b[0m\u001b[0;34m,\u001b[0m \u001b[0mstop\u001b[0m\u001b[0;34m,\u001b[0m \u001b[0mframes\u001b[0m\u001b[0;34m)\u001b[0m\u001b[0;34m\u001b[0m\u001b[0;34m\u001b[0m\u001b[0m\n",
      "\u001b[0;32m~/opt/anaconda3/lib/python3.9/site-packages/soundfile.py\u001b[0m in \u001b[0;36m__init__\u001b[0;34m(self, file, mode, samplerate, channels, subtype, endian, format, closefd)\u001b[0m\n\u001b[1;32m    627\u001b[0m         self._info = _create_info_struct(file, mode, samplerate, channels,\n\u001b[1;32m    628\u001b[0m                                          format, subtype, endian)\n\u001b[0;32m--> 629\u001b[0;31m         \u001b[0mself\u001b[0m\u001b[0;34m.\u001b[0m\u001b[0m_file\u001b[0m \u001b[0;34m=\u001b[0m \u001b[0mself\u001b[0m\u001b[0;34m.\u001b[0m\u001b[0m_open\u001b[0m\u001b[0;34m(\u001b[0m\u001b[0mfile\u001b[0m\u001b[0;34m,\u001b[0m \u001b[0mmode_int\u001b[0m\u001b[0;34m,\u001b[0m \u001b[0mclosefd\u001b[0m\u001b[0;34m)\u001b[0m\u001b[0;34m\u001b[0m\u001b[0;34m\u001b[0m\u001b[0m\n\u001b[0m\u001b[1;32m    630\u001b[0m         \u001b[0;32mif\u001b[0m \u001b[0mset\u001b[0m\u001b[0;34m(\u001b[0m\u001b[0mmode\u001b[0m\u001b[0;34m)\u001b[0m\u001b[0;34m.\u001b[0m\u001b[0missuperset\u001b[0m\u001b[0;34m(\u001b[0m\u001b[0;34m'r+'\u001b[0m\u001b[0;34m)\u001b[0m \u001b[0;32mand\u001b[0m \u001b[0mself\u001b[0m\u001b[0;34m.\u001b[0m\u001b[0mseekable\u001b[0m\u001b[0;34m(\u001b[0m\u001b[0;34m)\u001b[0m\u001b[0;34m:\u001b[0m\u001b[0;34m\u001b[0m\u001b[0;34m\u001b[0m\u001b[0m\n\u001b[1;32m    631\u001b[0m             \u001b[0;31m# Move write position to 0 (like in Python file objects)\u001b[0m\u001b[0;34m\u001b[0m\u001b[0;34m\u001b[0m\u001b[0m\n",
      "\u001b[0;32m~/opt/anaconda3/lib/python3.9/site-packages/soundfile.py\u001b[0m in \u001b[0;36m_open\u001b[0;34m(self, file, mode_int, closefd)\u001b[0m\n\u001b[1;32m   1181\u001b[0m         \u001b[0;32melse\u001b[0m\u001b[0;34m:\u001b[0m\u001b[0;34m\u001b[0m\u001b[0;34m\u001b[0m\u001b[0m\n\u001b[1;32m   1182\u001b[0m             \u001b[0;32mraise\u001b[0m \u001b[0mTypeError\u001b[0m\u001b[0;34m(\u001b[0m\u001b[0;34m\"Invalid file: {0!r}\"\u001b[0m\u001b[0;34m.\u001b[0m\u001b[0mformat\u001b[0m\u001b[0;34m(\u001b[0m\u001b[0mself\u001b[0m\u001b[0;34m.\u001b[0m\u001b[0mname\u001b[0m\u001b[0;34m)\u001b[0m\u001b[0;34m)\u001b[0m\u001b[0;34m\u001b[0m\u001b[0;34m\u001b[0m\u001b[0m\n\u001b[0;32m-> 1183\u001b[0;31m         _error_check(_snd.sf_error(file_ptr),\n\u001b[0m\u001b[1;32m   1184\u001b[0m                      \"Error opening {0!r}: \".format(self.name))\n\u001b[1;32m   1185\u001b[0m         \u001b[0;32mif\u001b[0m \u001b[0mmode_int\u001b[0m \u001b[0;34m==\u001b[0m \u001b[0m_snd\u001b[0m\u001b[0;34m.\u001b[0m\u001b[0mSFM_WRITE\u001b[0m\u001b[0;34m:\u001b[0m\u001b[0;34m\u001b[0m\u001b[0;34m\u001b[0m\u001b[0m\n",
      "\u001b[0;32m~/opt/anaconda3/lib/python3.9/site-packages/soundfile.py\u001b[0m in \u001b[0;36m_error_check\u001b[0;34m(err, prefix)\u001b[0m\n\u001b[1;32m   1355\u001b[0m     \u001b[0;32mif\u001b[0m \u001b[0merr\u001b[0m \u001b[0;34m!=\u001b[0m \u001b[0;36m0\u001b[0m\u001b[0;34m:\u001b[0m\u001b[0;34m\u001b[0m\u001b[0;34m\u001b[0m\u001b[0m\n\u001b[1;32m   1356\u001b[0m         \u001b[0merr_str\u001b[0m \u001b[0;34m=\u001b[0m \u001b[0m_snd\u001b[0m\u001b[0;34m.\u001b[0m\u001b[0msf_error_number\u001b[0m\u001b[0;34m(\u001b[0m\u001b[0merr\u001b[0m\u001b[0;34m)\u001b[0m\u001b[0;34m\u001b[0m\u001b[0;34m\u001b[0m\u001b[0m\n\u001b[0;32m-> 1357\u001b[0;31m         \u001b[0;32mraise\u001b[0m \u001b[0mRuntimeError\u001b[0m\u001b[0;34m(\u001b[0m\u001b[0mprefix\u001b[0m \u001b[0;34m+\u001b[0m \u001b[0m_ffi\u001b[0m\u001b[0;34m.\u001b[0m\u001b[0mstring\u001b[0m\u001b[0;34m(\u001b[0m\u001b[0merr_str\u001b[0m\u001b[0;34m)\u001b[0m\u001b[0;34m.\u001b[0m\u001b[0mdecode\u001b[0m\u001b[0;34m(\u001b[0m\u001b[0;34m'utf-8'\u001b[0m\u001b[0;34m,\u001b[0m \u001b[0;34m'replace'\u001b[0m\u001b[0;34m)\u001b[0m\u001b[0;34m)\u001b[0m\u001b[0;34m\u001b[0m\u001b[0;34m\u001b[0m\u001b[0m\n\u001b[0m\u001b[1;32m   1358\u001b[0m \u001b[0;34m\u001b[0m\u001b[0m\n\u001b[1;32m   1359\u001b[0m \u001b[0;34m\u001b[0m\u001b[0m\n",
      "\u001b[0;31mRuntimeError\u001b[0m: Error opening '/content/drive/MyDrive/HealthcareChethila.wav': System error."
     ]
    }
   ],
   "source": [
    "# calling loudness function\n",
    "loudness_1 = check_loudness(\"HealthcareChethila.wav\")\n",
    "loudness_2 = check_loudness(\"HospitalPurna.wav\")\n",
    "loudness_3 = check_loudness(\"FilmPurna.wav\")\n",
    "loudness_4 = check_loudness(\"CancerPurna.wav\")\n",
    "\n",
    "# making list of loudness for all speeches\n",
    "loudness_list = [loudness_1, loudness_2, loudness_3, loudness_4]"
   ]
  },
  {
   "cell_type": "markdown",
   "metadata": {
    "id": "UlHj7mU7gI3H"
   },
   "source": [
    "In case of google API for speech into text:\n",
    "\n",
    "Loudness should sound consistent for spoken words at -16 LUFS (stereo) or -19 LUFS (mono)."
   ]
  },
  {
   "cell_type": "code",
   "execution_count": null,
   "metadata": {
    "id": "7P9NH36OgFXB"
   },
   "outputs": [],
   "source": [
    "# defining loudness score function\n",
    "def get_loudness_score(x):\n",
    "  score = (abs(abs(abs(x) - 19) - 19)/19)\n",
    "  return score"
   ]
  },
  {
   "cell_type": "code",
   "execution_count": null,
   "metadata": {
    "id": "hadl4YDmiHKj"
   },
   "outputs": [],
   "source": [
    "voice_temp_score = []\n",
    "n = 1\n",
    "# calling loudness score function using loop\n",
    "for l in loudness_list:\n",
    "  loudness_score = get_loudness_score(l)\n",
    "  print(\"\\nLoudness for speech \" + str(n) + \" : \" + str(l) )\n",
    "  print(\"Loudness Score for speech \" + str(n) + \" : \" + str(loudness_score))\n",
    "  voice_temp_score.append(loudness_score)\n",
    "  n = n+1\n",
    "\n",
    "# making a np array of voice score\n",
    "score_by_voice = np.array(voice_temp_score)\n",
    "score_by_voice = 20*score_by_voice/100"
   ]
  },
  {
   "cell_type": "markdown",
   "metadata": {
    "id": "sLlvtjyblQ62"
   },
   "source": [
    "# **User Input**"
   ]
  },
  {
   "cell_type": "code",
   "execution_count": null,
   "metadata": {
    "id": "wZGvzfltMZPR"
   },
   "outputs": [],
   "source": [
    "# User Input Score\n",
    "user_temp_score = []\n",
    "score_by_user = []\n",
    "n=1\n",
    "while n<=4:\n",
    "\n",
    "    value = int(input(\"Give score to speech \" + str(n) + \" text (from 0 to 10): \"))\n",
    "    if value not in range(0,11):\n",
    "      print(\"Invalid score\")\n",
    "    else:\n",
    "        user_temp_score.append(value)\n",
    "        n=n+1\n",
    "\n",
    "score_by_user = np.array(user_temp_score)\n",
    "score_by_user = score_by_user/100\n",
    "print('\\n')"
   ]
  },
  {
   "cell_type": "markdown",
   "metadata": {
    "id": "7xbar3fGlXOx"
   },
   "source": [
    "# **Total Rating**"
   ]
  },
  {
   "cell_type": "code",
   "execution_count": null,
   "metadata": {
    "id": "9YdNIIalOMDt"
   },
   "outputs": [],
   "source": [
    "#calculating final score\n",
    "final_temp_score = np.add(score_by_relevancy, score_by_user)\n",
    "final_score = np.add(final_temp_score, score_by_voice)\n",
    "\n",
    "#calculating percentage\n",
    "perc_score_by_relevancy = 100*score_by_relevancy\n",
    "perc_score_by_voice = 100*score_by_voice\n",
    "perc_score_by_user = 100*score_by_user\n",
    "perc_final_score = 100*final_score"
   ]
  },
  {
   "cell_type": "code",
   "execution_count": null,
   "metadata": {
    "id": "dhW6HTQ6kj-c"
   },
   "outputs": [],
   "source": [
    " # Calling DataFrame constructor after zipping\n",
    "df = pd.DataFrame(list(zip(score_by_relevancy, score_by_voice, score_by_user, final_score)), index =['SPEECH 1', 'SPEECH 2', 'SPEECH 3', 'SPEECH 4'],\n",
    "               columns =['Relevancy Score', 'Speech Voice Score', 'User Given Score', 'Final Score'])\n",
    "df"
   ]
  },
  {
   "cell_type": "code",
   "execution_count": null,
   "metadata": {
    "id": "c3a_eXXRn-w7"
   },
   "outputs": [],
   "source": [
    "# Calling DataFrame constructor after zipping\n",
    "perc_df = pd.DataFrame(list(zip(perc_score_by_relevancy, perc_score_by_voice, perc_score_by_user, perc_final_score)), index =['SPEECH 1', 'SPEECH 2', 'SPEECH 3', 'SPEECH 4'],\n",
    "               columns =['Relevancy Score(%)', 'Speech Voice Score(%)', 'User Given Score(%)', 'Final Score(%)'])\n",
    "perc_df"
   ]
  }
 ],
 "metadata": {
  "colab": {
   "collapsed_sections": [],
   "name": "marking_scheme.ipynb",
   "provenance": []
  },
  "kernelspec": {
   "display_name": "Python 3 (ipykernel)",
   "language": "python",
   "name": "python3"
  },
  "language_info": {
   "codemirror_mode": {
    "name": "ipython",
    "version": 3
   },
   "file_extension": ".py",
   "mimetype": "text/x-python",
   "name": "python",
   "nbconvert_exporter": "python",
   "pygments_lexer": "ipython3",
   "version": "3.9.7"
  }
 },
 "nbformat": 4,
 "nbformat_minor": 1
}
